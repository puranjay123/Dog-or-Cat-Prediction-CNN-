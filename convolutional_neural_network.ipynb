{
 "cells": [
  {
   "cell_type": "markdown",
   "metadata": {
    "id": "3DR-eO17geWu"
   },
   "source": [
    "# Convolutional Neural Network"
   ]
  },
  {
   "cell_type": "markdown",
   "metadata": {
    "id": "EMefrVPCg-60"
   },
   "source": [
    "### Importing the libraries"
   ]
  },
  {
   "cell_type": "code",
   "execution_count": 1,
   "metadata": {
    "id": "zoZsoFNMuUI4"
   },
   "outputs": [],
   "source": [
    "import tensorflow as tf\n",
    "from keras.preprocessing.image import ImageDataGenerator"
   ]
  },
  {
   "cell_type": "code",
   "execution_count": 2,
   "metadata": {
    "colab": {
     "base_uri": "https://localhost:8080/",
     "height": 35
    },
    "id": "JipQhRDUukvQ",
    "outputId": "fe10eece-b9d5-4df6-ef42-01330dcadcbf"
   },
   "outputs": [
    {
     "data": {
      "text/plain": [
       "'2.6.0'"
      ]
     },
     "execution_count": 2,
     "metadata": {},
     "output_type": "execute_result"
    }
   ],
   "source": [
    "tf.__version__\n"
   ]
  },
  {
   "cell_type": "markdown",
   "metadata": {
    "id": "oxQxCBWyoGPE"
   },
   "source": [
    "## Part 1 - Data Preprocessing"
   ]
  },
  {
   "cell_type": "markdown",
   "metadata": {
    "id": "MvE-heJNo3GG"
   },
   "source": [
    "### Preprocessing the Training set"
   ]
  },
  {
   "cell_type": "code",
   "execution_count": 3,
   "metadata": {
    "id": "vN42nuv6uwZV"
   },
   "outputs": [
    {
     "name": "stdout",
     "output_type": "stream",
     "text": [
      "Found 8000 images belonging to 2 classes.\n"
     ]
    }
   ],
   "source": [
    "train_datagen = ImageDataGenerator(\n",
    "        rescale=1./255,\n",
    "        shear_range=0.2,\n",
    "        zoom_range=0.2,\n",
    "        horizontal_flip=True)\n",
    "training_set = train_datagen.flow_from_directory(\n",
    "        'dataset/training_set',\n",
    "        target_size=(64,64),\n",
    "        batch_size=32,\n",
    "        class_mode='binary')\n",
    "\n"
   ]
  },
  {
   "cell_type": "markdown",
   "metadata": {
    "id": "mrCMmGw9pHys"
   },
   "source": [
    "### Preprocessing the Test set"
   ]
  },
  {
   "cell_type": "code",
   "execution_count": 4,
   "metadata": {
    "id": "j7e_vfrGPHpi"
   },
   "outputs": [
    {
     "name": "stdout",
     "output_type": "stream",
     "text": [
      "Found 2000 images belonging to 2 classes.\n"
     ]
    }
   ],
   "source": [
    "test_datagen = ImageDataGenerator(rescale=1./255)\n",
    "test_set = test_datagen.flow_from_directory(\n",
    "        'dataset/test_set',\n",
    "        target_size=(64, 64),\n",
    "        batch_size=32,\n",
    "        class_mode='binary')\n"
   ]
  },
  {
   "cell_type": "markdown",
   "metadata": {
    "id": "af8O4l90gk7B"
   },
   "source": [
    "## Part 2 - Building the CNN"
   ]
  },
  {
   "cell_type": "markdown",
   "metadata": {
    "id": "ces1gXY2lmoX"
   },
   "source": [
    "### Initialising the CNN"
   ]
  },
  {
   "cell_type": "code",
   "execution_count": 5,
   "metadata": {
    "id": "uJ0lAe4WSAwo"
   },
   "outputs": [],
   "source": [
    "cnn =tf.keras.models.Sequential()"
   ]
  },
  {
   "cell_type": "markdown",
   "metadata": {
    "id": "u5YJj_XMl5LF"
   },
   "source": [
    "### Step 1 - Convolution"
   ]
  },
  {
   "cell_type": "code",
   "execution_count": 6,
   "metadata": {
    "id": "4Jx4Ycd7SMMp"
   },
   "outputs": [],
   "source": [
    "cnn.add(tf.keras.layers.Conv2D(filters=32,kernel_size = 3,activation = 'relu',input_shape = [64,64,3]))"
   ]
  },
  {
   "cell_type": "markdown",
   "metadata": {
    "id": "tf87FpvxmNOJ"
   },
   "source": [
    "### Step 2 - Pooling"
   ]
  },
  {
   "cell_type": "code",
   "execution_count": 7,
   "metadata": {
    "id": "D0MHsfEbUeij"
   },
   "outputs": [],
   "source": [
    "cnn.add(tf.keras.layers.MaxPool2D(pool_size = 2 ,strides =2))"
   ]
  },
  {
   "cell_type": "markdown",
   "metadata": {
    "id": "xaTOgD8rm4mU"
   },
   "source": [
    "### Adding a second convolutional layer"
   ]
  },
  {
   "cell_type": "code",
   "execution_count": 8,
   "metadata": {
    "id": "JEiU9CLwoVo8"
   },
   "outputs": [],
   "source": [
    "cnn.add(tf.keras.layers.Conv2D(filters=32,kernel_size = 3,activation = 'relu'))\n",
    "cnn.add(tf.keras.layers.MaxPool2D(pool_size = 2 ,strides =2))"
   ]
  },
  {
   "cell_type": "markdown",
   "metadata": {
    "id": "tmiEuvTunKfk"
   },
   "source": [
    "### Step 3 - Flattening"
   ]
  },
  {
   "cell_type": "code",
   "execution_count": 9,
   "metadata": {
    "id": "o2kfd2H1ojQ8"
   },
   "outputs": [],
   "source": [
    "cnn.add(tf.keras.layers.Flatten())"
   ]
  },
  {
   "cell_type": "markdown",
   "metadata": {
    "id": "dAoSECOm203v"
   },
   "source": [
    "### Step 4 - Full Connection"
   ]
  },
  {
   "cell_type": "code",
   "execution_count": 10,
   "metadata": {
    "id": "sIxV54MfpR8L"
   },
   "outputs": [],
   "source": [
    "cnn.add(tf.keras.layers.Dense(units =128,activation = 'relu'))"
   ]
  },
  {
   "cell_type": "markdown",
   "metadata": {
    "id": "yTldFvbX28Na"
   },
   "source": [
    "### Step 5 - Output Layer"
   ]
  },
  {
   "cell_type": "code",
   "execution_count": 11,
   "metadata": {
    "id": "HFL1gjalFPRC"
   },
   "outputs": [],
   "source": [
    "cnn.add(tf.keras.layers.Dense(units =1,activation = 'sigmoid'))"
   ]
  },
  {
   "cell_type": "markdown",
   "metadata": {
    "id": "D6XkI90snSDl"
   },
   "source": [
    "## Part 3 - Training the CNN"
   ]
  },
  {
   "cell_type": "markdown",
   "metadata": {
    "id": "vfrFQACEnc6i"
   },
   "source": [
    "### Compiling the CNN"
   ]
  },
  {
   "cell_type": "code",
   "execution_count": 12,
   "metadata": {
    "id": "q5ZCfqjBGJea"
   },
   "outputs": [],
   "source": [
    "cnn.compile(optimizer = 'adam',loss = 'binary_crossentropy',metrics = ['accuracy'])\n"
   ]
  },
  {
   "cell_type": "markdown",
   "metadata": {
    "id": "ehS-v3MIpX2h"
   },
   "source": [
    "### Training the CNN on the Training set and evaluating it on the Test set"
   ]
  },
  {
   "cell_type": "code",
   "execution_count": 13,
   "metadata": {
    "id": "CcZvZaMDGg0j"
   },
   "outputs": [
    {
     "name": "stdout",
     "output_type": "stream",
     "text": [
      "Epoch 1/25\n",
      "250/250 [==============================] - 75s 300ms/step - loss: 0.6792 - accuracy: 0.5484 - val_loss: 0.6353 - val_accuracy: 0.6475\n",
      "Epoch 2/25\n",
      "250/250 [==============================] - 32s 129ms/step - loss: 0.6265 - accuracy: 0.6486 - val_loss: 0.6288 - val_accuracy: 0.6485\n",
      "Epoch 3/25\n",
      "250/250 [==============================] - 32s 128ms/step - loss: 0.5886 - accuracy: 0.6827 - val_loss: 0.5513 - val_accuracy: 0.7300\n",
      "Epoch 4/25\n",
      "250/250 [==============================] - 32s 128ms/step - loss: 0.5509 - accuracy: 0.7232 - val_loss: 0.5162 - val_accuracy: 0.7430\n",
      "Epoch 5/25\n",
      "250/250 [==============================] - 32s 128ms/step - loss: 0.5190 - accuracy: 0.7420 - val_loss: 0.5067 - val_accuracy: 0.7615\n",
      "Epoch 6/25\n",
      "250/250 [==============================] - 32s 128ms/step - loss: 0.4976 - accuracy: 0.7550 - val_loss: 0.5133 - val_accuracy: 0.7590\n",
      "Epoch 7/25\n",
      "250/250 [==============================] - 32s 129ms/step - loss: 0.4737 - accuracy: 0.7729 - val_loss: 0.4973 - val_accuracy: 0.7665\n",
      "Epoch 8/25\n",
      "250/250 [==============================] - 33s 132ms/step - loss: 0.4619 - accuracy: 0.7799 - val_loss: 0.4841 - val_accuracy: 0.7740\n",
      "Epoch 9/25\n",
      "250/250 [==============================] - 33s 132ms/step - loss: 0.4372 - accuracy: 0.7954 - val_loss: 0.4920 - val_accuracy: 0.7700\n",
      "Epoch 10/25\n",
      "250/250 [==============================] - 32s 128ms/step - loss: 0.4233 - accuracy: 0.8090 - val_loss: 0.4951 - val_accuracy: 0.7695\n",
      "Epoch 11/25\n",
      "250/250 [==============================] - 31s 123ms/step - loss: 0.4107 - accuracy: 0.8121 - val_loss: 0.5127 - val_accuracy: 0.7645\n",
      "Epoch 12/25\n",
      "250/250 [==============================] - 31s 124ms/step - loss: 0.3973 - accuracy: 0.8236 - val_loss: 0.4597 - val_accuracy: 0.7935\n",
      "Epoch 13/25\n",
      "250/250 [==============================] - 31s 124ms/step - loss: 0.3917 - accuracy: 0.8214 - val_loss: 0.4694 - val_accuracy: 0.8015\n",
      "Epoch 14/25\n",
      "250/250 [==============================] - 35s 142ms/step - loss: 0.3654 - accuracy: 0.8361 - val_loss: 0.5094 - val_accuracy: 0.7700\n",
      "Epoch 15/25\n",
      "250/250 [==============================] - 38s 152ms/step - loss: 0.3526 - accuracy: 0.8436 - val_loss: 0.4629 - val_accuracy: 0.8025\n",
      "Epoch 16/25\n",
      "250/250 [==============================] - 36s 142ms/step - loss: 0.3337 - accuracy: 0.8541 - val_loss: 0.4748 - val_accuracy: 0.8065\n",
      "Epoch 17/25\n",
      "250/250 [==============================] - 35s 138ms/step - loss: 0.3226 - accuracy: 0.8566 - val_loss: 0.4949 - val_accuracy: 0.8065\n",
      "Epoch 18/25\n",
      "250/250 [==============================] - 33s 131ms/step - loss: 0.3088 - accuracy: 0.8602 - val_loss: 0.4845 - val_accuracy: 0.8050\n",
      "Epoch 19/25\n",
      "250/250 [==============================] - 33s 133ms/step - loss: 0.2985 - accuracy: 0.8674 - val_loss: 0.4854 - val_accuracy: 0.7990\n",
      "Epoch 20/25\n",
      "250/250 [==============================] - 33s 130ms/step - loss: 0.2961 - accuracy: 0.8683 - val_loss: 0.5017 - val_accuracy: 0.8020\n",
      "Epoch 21/25\n",
      "250/250 [==============================] - 41s 166ms/step - loss: 0.2750 - accuracy: 0.8831 - val_loss: 0.4884 - val_accuracy: 0.8050\n",
      "Epoch 22/25\n",
      "250/250 [==============================] - 42s 169ms/step - loss: 0.2481 - accuracy: 0.8953 - val_loss: 0.5282 - val_accuracy: 0.8050\n",
      "Epoch 23/25\n",
      "250/250 [==============================] - 41s 163ms/step - loss: 0.2468 - accuracy: 0.8965 - val_loss: 0.5112 - val_accuracy: 0.8080\n",
      "Epoch 24/25\n",
      "250/250 [==============================] - 35s 141ms/step - loss: 0.2230 - accuracy: 0.9103 - val_loss: 0.4905 - val_accuracy: 0.8165\n",
      "Epoch 25/25\n",
      "250/250 [==============================] - 32s 129ms/step - loss: 0.2291 - accuracy: 0.9029 - val_loss: 0.5742 - val_accuracy: 0.7885\n"
     ]
    },
    {
     "data": {
      "text/plain": [
       "<keras.callbacks.History at 0x2374ba3ae80>"
      ]
     },
     "execution_count": 13,
     "metadata": {},
     "output_type": "execute_result"
    }
   ],
   "source": [
    "cnn.fit(x = training_set,validation_data = test_set,epochs = 25)"
   ]
  },
  {
   "cell_type": "markdown",
   "metadata": {
    "id": "U3PZasO0006Z"
   },
   "source": [
    "## Part 4 - Making a single prediction"
   ]
  },
  {
   "cell_type": "code",
   "execution_count": 17,
   "metadata": {
    "id": "deGL3xoxKlhJ"
   },
   "outputs": [
    {
     "name": "stdout",
     "output_type": "stream",
     "text": [
      "dog\n"
     ]
    }
   ],
   "source": [
    "import numpy as np\n",
    "from keras.preprocessing import image\n",
    "test_image = image.load_img('dataset/single_prediction/cat_or_dog_3.jpg',target_size = (64,64))\n",
    "test_image = image.img_to_array(test_image)\n",
    "test_image = np.expand_dims(test_image,axis = 0)\n",
    "result = cnn.predict(test_image)\n",
    "training_set.class_indices\n",
    "if result[0][0] == 1:\n",
    "  prediction = 'dog'\n",
    "else:\n",
    "  prediction = 'cat'\n",
    "\n",
    "print(prediction)"
   ]
  },
  {
   "cell_type": "code",
   "execution_count": null,
   "metadata": {},
   "outputs": [],
   "source": []
  }
 ],
 "metadata": {
  "colab": {
   "collapsed_sections": [],
   "name": "Copy of convolutional_neural_network.ipynb",
   "provenance": []
  },
  "kernelspec": {
   "display_name": "Python 3",
   "language": "python",
   "name": "python3"
  },
  "language_info": {
   "codemirror_mode": {
    "name": "ipython",
    "version": 3
   },
   "file_extension": ".py",
   "mimetype": "text/x-python",
   "name": "python",
   "nbconvert_exporter": "python",
   "pygments_lexer": "ipython3",
   "version": "3.9.5"
  }
 },
 "nbformat": 4,
 "nbformat_minor": 1
}
